{
 "cells": [
  {
   "cell_type": "code",
   "execution_count": 8,
   "id": "a4b38cee",
   "metadata": {},
   "outputs": [],
   "source": [
    "import os\n",
    "import pandas as pd"
   ]
  },
  {
   "cell_type": "code",
   "execution_count": 2,
   "id": "8e901c53",
   "metadata": {},
   "outputs": [],
   "source": [
    "base = '/Users/eddie/Downloads/2024_SMT_Data_Challenge/2024_SMT_Data_Challenge'"
   ]
  },
  {
   "cell_type": "code",
   "execution_count": 3,
   "id": "1ae80f06",
   "metadata": {},
   "outputs": [],
   "source": [
    "team_info = base + '/team_info.csv'\n",
    "game_info = base + '/game_info'\n",
    "game_events = base + '/game_events'\n",
    "player_pos = base + '/player_pos'\n",
    "ball_pos = base + '/ball_pos'"
   ]
  },
  {
   "cell_type": "code",
   "execution_count": 17,
   "id": "f8d0557c",
   "metadata": {},
   "outputs": [],
   "source": [
    "def combine(directory):\n",
    "    df_list = []\n",
    "    for subdir, dirs, files in os.walk(directory):\n",
    "        for file in files:\n",
    "            name = directory.split('/')[-1]\n",
    "            if file == f'{name}.csv':\n",
    "                path = os.path.join(subdir, file)\n",
    "\n",
    "                df = pd.read_csv(path)\n",
    "                df_list.append(df)\n",
    "    return df_list\n",
    "                "
   ]
  },
  {
   "cell_type": "code",
   "execution_count": 22,
   "id": "57618bc5",
   "metadata": {},
   "outputs": [],
   "source": [
    "df_team_info = pd.read_csv(team_info)\n",
    "df_game_info = pd.concat(combine(game_info), ignore_index = True)\n",
    "df_game_events = pd.concat(combine(game_events), ignore_index = True)\n",
    "df_player_pos = pd.concat(combine(player_pos), ignore_index = True)\n",
    "df_ball_pos = pd.concat(combine(ball_pos), ignore_index = True)\n"
   ]
  },
  {
   "cell_type": "code",
   "execution_count": 32,
   "id": "cf7e87ac",
   "metadata": {},
   "outputs": [],
   "source": [
    "df_team_info.to_csv('team_info.csv', index = False)\n",
    "df_game_info.to_csv('game_info.csv', index = False)\n",
    "df_game_events.to_csv('game_events.csv', index = False)\n",
    "df_player_pos.to_csv('player_pos.csv', index = False)\n",
    "df_ball_pos.to_csv('ball_pos.csv', index = False)"
   ]
  }
 ],
 "metadata": {
  "kernelspec": {
   "display_name": "Python 3 (ipykernel)",
   "language": "python",
   "name": "python3"
  },
  "language_info": {
   "codemirror_mode": {
    "name": "ipython",
    "version": 3
   },
   "file_extension": ".py",
   "mimetype": "text/x-python",
   "name": "python",
   "nbconvert_exporter": "python",
   "pygments_lexer": "ipython3",
   "version": "3.10.11"
  }
 },
 "nbformat": 4,
 "nbformat_minor": 5
}
