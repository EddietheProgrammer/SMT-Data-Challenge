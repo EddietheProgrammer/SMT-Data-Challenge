{
 "cells": [
  {
   "cell_type": "code",
   "execution_count": 1,
   "id": "a4b38cee",
   "metadata": {},
   "outputs": [],
   "source": [
    "import os\n",
    "import pandas as pd\n",
    "import numpy as np"
   ]
  },
  {
   "cell_type": "code",
   "execution_count": 2,
   "id": "8e901c53",
   "metadata": {},
   "outputs": [],
   "source": [
    "base = '/Users/eddie/Downloads/2024_SMT_Data_Challenge/2024_SMT_Data_Challenge'"
   ]
  },
  {
   "cell_type": "code",
   "execution_count": 3,
   "id": "1ae80f06",
   "metadata": {},
   "outputs": [],
   "source": [
    "team_info = base + '/team_info.csv'\n",
    "game_info = base + '/game_info'\n",
    "game_events = base + '/game_events'\n",
    "player_pos = base + '/player_pos'\n",
    "ball_pos = base + '/ball_pos'"
   ]
  },
  {
   "cell_type": "code",
   "execution_count": 4,
   "id": "f8d0557c",
   "metadata": {},
   "outputs": [],
   "source": [
    "def combine(directory):\n",
    "    df_list = []\n",
    "    for subdir, dirs, files in os.walk(directory):\n",
    "        for file in files:\n",
    "            name = directory.split('/')[-1]\n",
    "            if file == f'{name}.csv':\n",
    "                path = os.path.join(subdir, file)\n",
    "\n",
    "                df = pd.read_csv(path)\n",
    "                df_list.append(df)\n",
    "    return df_list\n",
    "                "
   ]
  },
  {
   "cell_type": "code",
   "execution_count": 5,
   "id": "57618bc5",
   "metadata": {},
   "outputs": [],
   "source": [
    "df_team_info = pd.read_csv(team_info)\n",
    "df_game_info = pd.concat(combine(game_info), ignore_index = True)\n",
    "df_game_events = pd.concat(combine(game_events), ignore_index = True)\n",
    "df_player_pos = combine(player_pos)\n",
    "df_ball_pos = combine(ball_pos)\n"
   ]
  },
  {
   "cell_type": "code",
   "execution_count": 6,
   "id": "947ae935",
   "metadata": {},
   "outputs": [
    {
     "name": "stderr",
     "output_type": "stream",
     "text": [
      "/var/folders/0m/p03jcv9j4td3thddmd99m0300000gp/T/ipykernel_42647/3863594838.py:1: FutureWarning: Downcasting behavior in `replace` is deprecated and will be removed in a future version. To retain the old behavior, explicitly call `result.infer_objects(copy=False)`. To opt-in to the future behavior, set `pd.set_option('future.no_silent_downcasting', True)`\n",
      "  df_game_info.replace('\\\\N', np.nan, inplace=True)\n"
     ]
    }
   ],
   "source": [
    "df_game_info.replace('\\\\N', np.nan, inplace=True)  \n",
    "numeric_columns = df_game_info.columns[df_game_info.columns.get_loc('pitcher'):]  \n",
    "df_game_info[numeric_columns] = df_game_info[numeric_columns].astype(float)\n"
   ]
  },
  {
   "cell_type": "code",
   "execution_count": 7,
   "id": "cf7e87ac",
   "metadata": {},
   "outputs": [],
   "source": [
    "df_team_info.to_parquet('Combined/team_info.parquet', index = False)\n",
    "df_game_info.to_parquet('Combined/game_info.parquet', index = False)\n",
    "df_game_events.to_parquet('Combined/game_events.parquet', index = False)\n",
    "\n",
    "# Manually organize each separate game into the file\n",
    "for i, item in enumerate(df_player_pos):\n",
    "    pd.DataFrame(item).to_parquet(f'Combined/player_pos/{item.game_str[i]}', index = False)\n",
    "\n",
    "for i, item in enumerate(df_ball_pos):\n",
    "    pd.DataFrame(item).to_parquet(f'Combined/ball_pos/{item.game_str[i]}', index = False)"
   ]
  }
 ],
 "metadata": {
  "kernelspec": {
   "display_name": "Python 3 (ipykernel)",
   "language": "python",
   "name": "python3"
  },
  "language_info": {
   "codemirror_mode": {
    "name": "ipython",
    "version": 3
   },
   "file_extension": ".py",
   "mimetype": "text/x-python",
   "name": "python",
   "nbconvert_exporter": "python",
   "pygments_lexer": "ipython3",
   "version": "3.10.11"
  }
 },
 "nbformat": 4,
 "nbformat_minor": 5
}
